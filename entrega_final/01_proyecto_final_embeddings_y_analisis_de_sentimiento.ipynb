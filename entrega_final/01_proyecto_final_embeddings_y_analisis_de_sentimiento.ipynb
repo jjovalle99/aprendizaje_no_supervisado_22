{
 "cells": [
  {
   "cell_type": "code",
   "execution_count": 1,
   "id": "41f38a2a-b4e5-4dbd-a4d5-bb65413fdc2f",
   "metadata": {},
   "outputs": [
    {
     "name": "stdout",
     "output_type": "stream",
     "text": [
      "Tue Sep 26 20:21:03 2023       \n",
      "+-----------------------------------------------------------------------------+\n",
      "| NVIDIA-SMI 525.125.06   Driver Version: 525.125.06   CUDA Version: 12.0     |\n",
      "|-------------------------------+----------------------+----------------------+\n",
      "| GPU  Name        Persistence-M| Bus-Id        Disp.A | Volatile Uncorr. ECC |\n",
      "| Fan  Temp  Perf  Pwr:Usage/Cap|         Memory-Usage | GPU-Util  Compute M. |\n",
      "|                               |                      |               MIG M. |\n",
      "|===============================+======================+======================|\n",
      "|   0  NVIDIA A10G         On   | 00000000:00:1E.0 Off |                    0 |\n",
      "|  0%   28C    P8     9W / 300W |      0MiB / 23028MiB |      0%      Default |\n",
      "|                               |                      |                  N/A |\n",
      "+-------------------------------+----------------------+----------------------+\n",
      "                                                                               \n",
      "+-----------------------------------------------------------------------------+\n",
      "| Processes:                                                                  |\n",
      "|  GPU   GI   CI        PID   Type   Process name                  GPU Memory |\n",
      "|        ID   ID                                                   Usage      |\n",
      "|=============================================================================|\n",
      "|  No running processes found                                                 |\n",
      "+-----------------------------------------------------------------------------+\n"
     ]
    }
   ],
   "source": [
    "!nvidia-smi"
   ]
  },
  {
   "attachments": {},
   "cell_type": "markdown",
   "id": "f0fb9831-c013-473e-8aea-982e6807903f",
   "metadata": {},
   "source": [
    "### Librerias"
   ]
  },
  {
   "cell_type": "code",
   "execution_count": 2,
   "id": "a96cb162-7e6d-4ed7-8680-3dc7605f51f2",
   "metadata": {},
   "outputs": [],
   "source": [
    "import os\n",
    "import pandas as pd\n",
    "import numpy as np\n",
    "import torch\n",
    "\n",
    "import matplotlib.pyplot as plt\n",
    "import seaborn as sns\n",
    "\n",
    "from unidecode import unidecode\n",
    "from tqdm import tqdm\n",
    "\n",
    "from sentence_transformers import SentenceTransformer\n",
    "from transformers import AutoTokenizer, AutoModelForSequenceClassification, pipeline\n",
    "from transformers.pipelines.pt_utils import KeyDataset\n",
    "from datasets import Dataset\n",
    "\n",
    "from google.cloud.bigquery import Client\n",
    "from google.oauth2.service_account import Credentials\n"
   ]
  },
  {
   "cell_type": "code",
   "execution_count": 3,
   "id": "49c5b039",
   "metadata": {},
   "outputs": [],
   "source": [
    "# Opciones\n",
    "plt.style.use(\"ggplot\")\n",
    "pd.set_option(\"display.max_colwidth\", None)"
   ]
  },
  {
   "attachments": {},
   "cell_type": "markdown",
   "id": "3d7f6136-2d63-4f1a-8aec-ac85e3ac2ca3",
   "metadata": {},
   "source": [
    "### Variables"
   ]
  },
  {
   "cell_type": "code",
   "execution_count": 5,
   "id": "bdfcc6e1-e14a-480a-89db-12711937d586",
   "metadata": {},
   "outputs": [],
   "source": [
    "# BigQuery Variables\n",
    "SERVICE_ACC_FILE=\"valid-dragon-397303-a396a9a99124.json\"\n",
    "PROJECT_ID=\"valid-dragon-397303\"\n",
    "\n",
    "# Seed\n",
    "SEED=1399\n",
    "\n",
    "# Cliente BQ\n",
    "CREDENTIALS = Credentials.from_service_account_file(SERVICE_ACC_FILE)\n",
    "client = Client(project=PROJECT_ID, credentials=CREDENTIALS)"
   ]
  },
  {
   "attachments": {},
   "cell_type": "markdown",
   "id": "7b0c884d-3b9c-44e2-bd6f-9ab15b024891",
   "metadata": {},
   "source": [
    "### Conjunto de Datos"
   ]
  },
  {
   "attachments": {},
   "cell_type": "markdown",
   "id": "4b21de5f-feb1-4b81-9263-c0a343a9533d",
   "metadata": {},
   "source": [
    "#### Cargar datos"
   ]
  },
  {
   "cell_type": "code",
   "execution_count": 6,
   "id": "1ec9e921-445a-4d7d-aa1e-d0cdf3dd43ac",
   "metadata": {},
   "outputs": [
    {
     "name": "stdout",
     "output_type": "stream",
     "text": [
      "CPU times: user 800 ms, sys: 416 ms, total: 1.22 s\n",
      "Wall time: 5.83 s\n"
     ]
    }
   ],
   "source": [
    "%%time\n",
    "# Se traen los datos desde BigQuery\n",
    "brands = [\"Nintendo\", \"Electronic Arts\", \"Sony\", \"Microsoft\", \"Activision\"]\n",
    "category = \"Video Games\"\n",
    "\n",
    "QUERY = f\"\"\"\n",
    "WITH cleaned_data AS (\n",
    "  SELECT\n",
    "    review,\n",
    "    TRIM(REPLACE(REPLACE(brand, 'by', ''), '\\\\n', '')) AS cleaned_brand,\n",
    "    first_category_item\n",
    "  FROM `valid-dragon-397303.amazon_reviews.modeling_data`\n",
    "  WHERE first_category_item = '{category}'\n",
    ")\n",
    "\n",
    "SELECT \n",
    "  review,\n",
    "  cleaned_brand AS brand,\n",
    "  first_category_item\n",
    "FROM cleaned_data\n",
    "WHERE cleaned_brand IN ({\", \".join(f'\"{brand}\"' for brand in brands)});\n",
    "\"\"\"\n",
    "\n",
    "job = client.query(QUERY)\n",
    "data = job.to_dataframe()"
   ]
  },
  {
   "attachments": {},
   "cell_type": "markdown",
   "id": "e9af639b-e013-4e16-838a-5a350cde162c",
   "metadata": {},
   "source": [
    "#### Analisis descriptivo de los datos"
   ]
  },
  {
   "cell_type": "code",
   "execution_count": 7,
   "id": "fa1b8d94-7072-48f8-815e-046b3ed63fc8",
   "metadata": {},
   "outputs": [
    {
     "name": "stdout",
     "output_type": "stream",
     "text": [
      "Filas: [621,600]\n",
      "Columnas: [3]\n"
     ]
    },
    {
     "data": {
      "text/html": [
       "<div>\n",
       "<style scoped>\n",
       "    .dataframe tbody tr th:only-of-type {\n",
       "        vertical-align: middle;\n",
       "    }\n",
       "\n",
       "    .dataframe tbody tr th {\n",
       "        vertical-align: top;\n",
       "    }\n",
       "\n",
       "    .dataframe thead th {\n",
       "        text-align: right;\n",
       "    }\n",
       "</style>\n",
       "<table border=\"1\" class=\"dataframe\">\n",
       "  <thead>\n",
       "    <tr style=\"text-align: right;\">\n",
       "      <th></th>\n",
       "      <th>review</th>\n",
       "      <th>brand</th>\n",
       "      <th>first_category_item</th>\n",
       "    </tr>\n",
       "  </thead>\n",
       "  <tbody>\n",
       "    <tr>\n",
       "      <th>0</th>\n",
       "      <td>OK I have been Beta Testing this as a Elf Wizard named Atticus. Its a GREAT game. I will be one of the first to buy it when ti comes out. Its story line is incredible. It will take you some time to get started but once you do it is well worth it. You travel around the world of Tunaria and do little missions for your group of people. You can start Guilds and Groups and all that. I currently own a guild called The Elves of Tunaria. You will spend hours upon hours playing this game. Even if you don't get any missions done you can still play this forever. Leveling up does take some time so its best to join a group. I sugest this to any online gaming fanatic. I never liked EverQuest for PC but this one is a must for anyone. I also sugest you get a keyboard of some sort because that will make it LOADS better. It also doesnt matter if you have a slow or fast connection because you can still play with little or no lag in the server. Well Thats all Thanks for reading.</td>\n",
       "      <td>Sony</td>\n",
       "      <td>Video Games</td>\n",
       "    </tr>\n",
       "    <tr>\n",
       "      <th>1</th>\n",
       "      <td>In my own opinion.\\nThis is the GREATEST game ever made.\\nPick up the 2nd one also, it is also very good, or also UmJammer Lammy is a classic as well.\\nWithout this game we wouldn't have Dance Dance Revolution or any other games like that.\\nPick it up!</td>\n",
       "      <td>Sony</td>\n",
       "      <td>Video Games</td>\n",
       "    </tr>\n",
       "    <tr>\n",
       "      <th>2</th>\n",
       "      <td>This game is great... but the hurtin thing about it, is that there is no IMPORT CAR like HONDA PRELUDE and all those awsome car. IT be even better if there's MAGS and BODYKIT on some of the car.</td>\n",
       "      <td>Sony</td>\n",
       "      <td>Video Games</td>\n",
       "    </tr>\n",
       "    <tr>\n",
       "      <th>3</th>\n",
       "      <td>i bought this game a week ago and i really don't regret my decision ! it is an incredible game !! i've playing it the entire week and i found it amazing . the levels increase gradually their difficulty and the history is great . the graphics are pretty good, too . there are many weapons and i like the best the sniper rifle : its like silent scope , but you can move anywhere and shoot any one . excellent game .\\nthe only thing i don't like is that if you fail a mission u have to repeat all the steps , and this is especially bothering in long missions , as blow tha base</td>\n",
       "      <td>Sony</td>\n",
       "      <td>Video Games</td>\n",
       "    </tr>\n",
       "    <tr>\n",
       "      <th>4</th>\n",
       "      <td>I cannot describe the exciment of this game. I'm sick and tired of playing \"good guys\" games.</td>\n",
       "      <td>Sony</td>\n",
       "      <td>Video Games</td>\n",
       "    </tr>\n",
       "  </tbody>\n",
       "</table>\n",
       "</div>"
      ],
      "text/plain": [
       "                                                                                                                                                                                                                                                                                                                                                                                                                                                                                                                                                                                                                                                                                                                                                                                                                                                                                                                                                                                                          review  \\\n",
       "0  OK I have been Beta Testing this as a Elf Wizard named Atticus. Its a GREAT game. I will be one of the first to buy it when ti comes out. Its story line is incredible. It will take you some time to get started but once you do it is well worth it. You travel around the world of Tunaria and do little missions for your group of people. You can start Guilds and Groups and all that. I currently own a guild called The Elves of Tunaria. You will spend hours upon hours playing this game. Even if you don't get any missions done you can still play this forever. Leveling up does take some time so its best to join a group. I sugest this to any online gaming fanatic. I never liked EverQuest for PC but this one is a must for anyone. I also sugest you get a keyboard of some sort because that will make it LOADS better. It also doesnt matter if you have a slow or fast connection because you can still play with little or no lag in the server. Well Thats all Thanks for reading.   \n",
       "1                                                                                                                                                                                                                                                                                                                                                                                                                                                                                                                                                                                                                                                                                                                                                   In my own opinion.\\nThis is the GREATEST game ever made.\\nPick up the 2nd one also, it is also very good, or also UmJammer Lammy is a classic as well.\\nWithout this game we wouldn't have Dance Dance Revolution or any other games like that.\\nPick it up!   \n",
       "2                                                                                                                                                                                                                                                                                                                                                                                                                                                                                                                                                                                                                                                                                                                                                                                                             This game is great... but the hurtin thing about it, is that there is no IMPORT CAR like HONDA PRELUDE and all those awsome car. IT be even better if there's MAGS and BODYKIT on some of the car.   \n",
       "3                                                                                                                                                                                                                                                                                                                                                                                                                 i bought this game a week ago and i really don't regret my decision ! it is an incredible game !! i've playing it the entire week and i found it amazing . the levels increase gradually their difficulty and the history is great . the graphics are pretty good, too . there are many weapons and i like the best the sniper rifle : its like silent scope , but you can move anywhere and shoot any one . excellent game .\\nthe only thing i don't like is that if you fail a mission u have to repeat all the steps , and this is especially bothering in long missions , as blow tha base   \n",
       "4                                                                                                                                                                                                                                                                                                                                                                                                                                                                                                                                                                                                                                                                                                                                                                                                                                                                                                                  I cannot describe the exciment of this game. I'm sick and tired of playing \"good guys\" games.   \n",
       "\n",
       "  brand first_category_item  \n",
       "0  Sony         Video Games  \n",
       "1  Sony         Video Games  \n",
       "2  Sony         Video Games  \n",
       "3  Sony         Video Games  \n",
       "4  Sony         Video Games  "
      ]
     },
     "execution_count": 7,
     "metadata": {},
     "output_type": "execute_result"
    }
   ],
   "source": [
    "# Se inspecciona la estructura de los datos\n",
    "print(f\"Filas: [{data.shape[0]:,}]\")\n",
    "print(f\"Columnas: [{data.shape[1]}]\")\n",
    "data.head(5)"
   ]
  },
  {
   "cell_type": "code",
   "execution_count": 8,
   "id": "69ec39c1-0477-40ef-b8d5-4bda9ddec70c",
   "metadata": {},
   "outputs": [
    {
     "data": {
      "text/html": [
       "<div>\n",
       "<style scoped>\n",
       "    .dataframe tbody tr th:only-of-type {\n",
       "        vertical-align: middle;\n",
       "    }\n",
       "\n",
       "    .dataframe tbody tr th {\n",
       "        vertical-align: top;\n",
       "    }\n",
       "\n",
       "    .dataframe thead th {\n",
       "        text-align: right;\n",
       "    }\n",
       "</style>\n",
       "<table border=\"1\" class=\"dataframe\">\n",
       "  <thead>\n",
       "    <tr style=\"text-align: right;\">\n",
       "      <th></th>\n",
       "      <th>Tipo de dato</th>\n",
       "    </tr>\n",
       "  </thead>\n",
       "  <tbody>\n",
       "    <tr>\n",
       "      <th>review</th>\n",
       "      <td>object</td>\n",
       "    </tr>\n",
       "    <tr>\n",
       "      <th>brand</th>\n",
       "      <td>object</td>\n",
       "    </tr>\n",
       "    <tr>\n",
       "      <th>first_category_item</th>\n",
       "      <td>object</td>\n",
       "    </tr>\n",
       "  </tbody>\n",
       "</table>\n",
       "</div>"
      ],
      "text/plain": [
       "                    Tipo de dato\n",
       "review                    object\n",
       "brand                     object\n",
       "first_category_item       object"
      ]
     },
     "execution_count": 8,
     "metadata": {},
     "output_type": "execute_result"
    }
   ],
   "source": [
    "# Se inspeccionan los tipos de datos\n",
    "data.dtypes.to_frame(\"Tipo de dato\")"
   ]
  },
  {
   "cell_type": "code",
   "execution_count": 14,
   "id": "0bd3822a",
   "metadata": {},
   "outputs": [
    {
     "name": "stdout",
     "output_type": "stream",
     "text": [
      "Numero de filas duplicadas: [157309]\n"
     ]
    }
   ],
   "source": [
    "# Se eliminan datos duplicados\n",
    "print(f\"Numero de filas duplicadas: [{data.duplicated().sum()}]\")\n",
    "data.drop_duplicates(inplace=True)"
   ]
  },
  {
   "cell_type": "code",
   "execution_count": 15,
   "id": "3a5a0b96-a53e-4b8b-9374-a6d7024f47fe",
   "metadata": {},
   "outputs": [
    {
     "data": {
      "text/html": [
       "<div>\n",
       "<style scoped>\n",
       "    .dataframe tbody tr th:only-of-type {\n",
       "        vertical-align: middle;\n",
       "    }\n",
       "\n",
       "    .dataframe tbody tr th {\n",
       "        vertical-align: top;\n",
       "    }\n",
       "\n",
       "    .dataframe thead th {\n",
       "        text-align: right;\n",
       "    }\n",
       "</style>\n",
       "<table border=\"1\" class=\"dataframe\">\n",
       "  <thead>\n",
       "    <tr style=\"text-align: right;\">\n",
       "      <th></th>\n",
       "      <th>review</th>\n",
       "      <th>brand</th>\n",
       "      <th>first_category_item</th>\n",
       "    </tr>\n",
       "  </thead>\n",
       "  <tbody>\n",
       "    <tr>\n",
       "      <th>count</th>\n",
       "      <td>464291</td>\n",
       "      <td>464291</td>\n",
       "      <td>464291</td>\n",
       "    </tr>\n",
       "    <tr>\n",
       "      <th>unique</th>\n",
       "      <td>456662</td>\n",
       "      <td>5</td>\n",
       "      <td>1</td>\n",
       "    </tr>\n",
       "    <tr>\n",
       "      <th>top</th>\n",
       "      <td>NICE</td>\n",
       "      <td>Nintendo</td>\n",
       "      <td>Video Games</td>\n",
       "    </tr>\n",
       "    <tr>\n",
       "      <th>freq</th>\n",
       "      <td>5</td>\n",
       "      <td>124252</td>\n",
       "      <td>464291</td>\n",
       "    </tr>\n",
       "  </tbody>\n",
       "</table>\n",
       "</div>"
      ],
      "text/plain": [
       "        review     brand first_category_item\n",
       "count   464291    464291              464291\n",
       "unique  456662         5                   1\n",
       "top       NICE  Nintendo         Video Games\n",
       "freq         5    124252              464291"
      ]
     },
     "execution_count": 15,
     "metadata": {},
     "output_type": "execute_result"
    }
   ],
   "source": [
    "# Se calculan estadisticas descriptivas\n",
    "data.describe()"
   ]
  },
  {
   "cell_type": "code",
   "execution_count": 16,
   "id": "0247c0dc-6306-433f-9b6d-4968fd673a5a",
   "metadata": {},
   "outputs": [
    {
     "data": {
      "text/plain": [
       "Nintendo           124252\n",
       "Electronic Arts    110463\n",
       "Microsoft           87713\n",
       "Sony                82306\n",
       "Activision          59557\n",
       "Name: brand, dtype: int64"
      ]
     },
     "execution_count": 16,
     "metadata": {},
     "output_type": "execute_result"
    }
   ],
   "source": [
    "# Se inspecciona el numero de reviews por marca\n",
    "data.brand.value_counts(dropna=False)"
   ]
  },
  {
   "cell_type": "code",
   "execution_count": 17,
   "id": "350707cb-1271-4ff0-858f-e9225fec6448",
   "metadata": {},
   "outputs": [
    {
     "data": {
      "text/plain": [
       "<Axes: title={'center': 'Distribucion de reviews por marca'}, xlabel='%', ylabel='Marca'>"
      ]
     },
     "execution_count": 17,
     "metadata": {},
     "output_type": "execute_result"
    },
    {
     "data": {
      "image/png": "[encoded data removed]",
      "text/plain": [
       "<Figure size 640x480 with 1 Axes>"
      ]
     },
     "metadata": {},
     "output_type": "display_data"
    }
   ],
   "source": [
    "# Se inspecciona el numero de reviews por marca\n",
    "(data[\"brand\"].value_counts(True) * 100).sort_values()\\\n",
    "    .plot(kind=\"barh\", title=\"Distribucion de reviews por marca\", xlabel=\"%\", ylabel=\"Marca\")"
   ]
  },
  {
   "cell_type": "code",
   "execution_count": 18,
   "id": "149dac14-7c09-42ca-acbb-fa0b864ad5d0",
   "metadata": {},
   "outputs": [
    {
     "data": {
      "image/png": "[encoded data removed]",
      "text/plain": [
       "<Figure size 800x400 with 2 Axes>"
      ]
     },
     "metadata": {},
     "output_type": "display_data"
    }
   ],
   "source": [
    "# Se inspecciona la distribucion de la longitud de los reviews\n",
    "fig, ax = plt.subplots(1, 2, figsize=(8, 4), sharey=True)\n",
    "data[\"review\"].str.len().plot(kind=\"hist\", bins=30, ax=ax[0])\n",
    "data[data[\"review\"].str.len() <= 5000][\"review\"].str.len().plot(kind=\"hist\", bins=30, ax=ax[1])\n",
    "ax[0].set_title(\"Distribucion de longitud de reviews\", fontsize=10)\n",
    "ax[1].set_title(\"Distribucion de longitud de reviews \\n (< 5000 caracteres)\", fontsize=10)\n",
    "ax[0].set_ylabel(\"Numero de reviews\")\n",
    "ax[0].set_xlabel(\"Longitud de la review\")\n",
    "ax[1].set_xlabel(\"Longitud de la review\")\n",
    "fig.tight_layout()"
   ]
  },
  {
   "cell_type": "code",
   "execution_count": 19,
   "id": "76149db2-8f8e-4ea8-8990-bf7a3cb0c885",
   "metadata": {},
   "outputs": [
    {
     "data": {
      "text/html": [
       "<div>\n",
       "<style scoped>\n",
       "    .dataframe tbody tr th:only-of-type {\n",
       "        vertical-align: middle;\n",
       "    }\n",
       "\n",
       "    .dataframe tbody tr th {\n",
       "        vertical-align: top;\n",
       "    }\n",
       "\n",
       "    .dataframe thead th {\n",
       "        text-align: right;\n",
       "    }\n",
       "</style>\n",
       "<table border=\"1\" class=\"dataframe\">\n",
       "  <thead>\n",
       "    <tr style=\"text-align: right;\">\n",
       "      <th></th>\n",
       "      <th>review</th>\n",
       "    </tr>\n",
       "  </thead>\n",
       "  <tbody>\n",
       "    <tr>\n",
       "      <th>count</th>\n",
       "      <td>464291.00</td>\n",
       "    </tr>\n",
       "    <tr>\n",
       "      <th>mean</th>\n",
       "      <td>502.83</td>\n",
       "    </tr>\n",
       "    <tr>\n",
       "      <th>std</th>\n",
       "      <td>928.24</td>\n",
       "    </tr>\n",
       "    <tr>\n",
       "      <th>min</th>\n",
       "      <td>1.00</td>\n",
       "    </tr>\n",
       "    <tr>\n",
       "      <th>25%</th>\n",
       "      <td>104.00</td>\n",
       "    </tr>\n",
       "    <tr>\n",
       "      <th>50%</th>\n",
       "      <td>199.00</td>\n",
       "    </tr>\n",
       "    <tr>\n",
       "      <th>75%</th>\n",
       "      <td>515.00</td>\n",
       "    </tr>\n",
       "    <tr>\n",
       "      <th>max</th>\n",
       "      <td>32721.00</td>\n",
       "    </tr>\n",
       "  </tbody>\n",
       "</table>\n",
       "</div>"
      ],
      "text/plain": [
       "          review\n",
       "count  464291.00\n",
       "mean      502.83\n",
       "std       928.24\n",
       "min         1.00\n",
       "25%       104.00\n",
       "50%       199.00\n",
       "75%       515.00\n",
       "max     32721.00"
      ]
     },
     "execution_count": 19,
     "metadata": {},
     "output_type": "execute_result"
    }
   ],
   "source": [
    "# Estadisticas descriptivas de la longitud de las reviews\n",
    "data[\"review\"].str.len().describe().to_frame().round(2)"
   ]
  },
  {
   "cell_type": "code",
   "execution_count": 20,
   "id": "0ddc71cc-d036-4503-9f71-4516f3ec1cca",
   "metadata": {},
   "outputs": [
    {
     "data": {
      "text/plain": [
       "Text(0.5, 1.0, 'Disitrbucion de longitud de reviews por marca\\n (<= 1000)')"
      ]
     },
     "execution_count": 20,
     "metadata": {},
     "output_type": "execute_result"
    },
    {
     "data": {
      "image/png": "[encoded data removed]",
      "text/plain": [
       "<Figure size 640x480 with 1 Axes>"
      ]
     },
     "metadata": {},
     "output_type": "display_data"
    }
   ],
   "source": [
    "# Se inspecciona la longitud de reviews por marca\n",
    "data[\"longitud_rev\"] = data[\"review\"].str.len()\n",
    "sns.boxplot(data=data[data[\"longitud_rev\"] <= 1000], y=\"longitud_rev\", x=\"brand\")\n",
    "plt.xlabel(\"Marca\")\n",
    "plt.ylabel(\"Longitud de reviews\")\n",
    "plt.title(\"Disitrbucion de longitud de reviews por marca\\n (<= 1000)\")"
   ]
  },
  {
   "attachments": {},
   "cell_type": "markdown",
   "id": "c1de1aea-8a0f-43b6-a097-823e94300b0d",
   "metadata": {},
   "source": [
    "#### Preprocesamiento de datos"
   ]
  },
  {
   "cell_type": "code",
   "execution_count": 21,
   "id": "890aa84b-fee9-4bfc-a0cb-2f468b5e53fd",
   "metadata": {},
   "outputs": [],
   "source": [
    "# Se quitan nuevas lineas y espacios extras\n",
    "data[\"review\"] = data[\"review\"].str.replace('\\s+', ' ', regex=True).str.strip()"
   ]
  },
  {
   "cell_type": "code",
   "execution_count": 22,
   "id": "ec9ebd12-2589-4ccc-a4cd-754d218bbc8b",
   "metadata": {},
   "outputs": [],
   "source": [
    "# Se pasan las reviews a minuscula\n",
    "data[\"review\"] = data[\"review\"].str.lower()"
   ]
  },
  {
   "cell_type": "code",
   "execution_count": 23,
   "id": "a20fdbfc-dd00-4ebe-aae0-a67fa41eba89",
   "metadata": {},
   "outputs": [],
   "source": [
    "# Se quitan acentos\n",
    "data[\"review\"] = [unidecode(val) for val in data[\"review\"]]"
   ]
  },
  {
   "attachments": {},
   "cell_type": "markdown",
   "id": "f76d0d09",
   "metadata": {},
   "source": [
    "## Procesamiento de Lenguaje Natural - Reviews"
   ]
  },
  {
   "cell_type": "code",
   "execution_count": 28,
   "id": "1dab40bb",
   "metadata": {},
   "outputs": [
    {
     "data": {
      "text/plain": [
       "Dataset({\n",
       "    features: ['review', 'brand', 'first_category_item', 'longitud_rev'],\n",
       "    num_rows: 464291\n",
       "})"
      ]
     },
     "execution_count": 28,
     "metadata": {},
     "output_type": "execute_result"
    }
   ],
   "source": [
    "# Se crea un Dataset de huggingface para agilizar los procesos de inferencia\n",
    "hf_data = Dataset.from_pandas(data, preserve_index=False)\n",
    "hf_data"
   ]
  },
  {
   "attachments": {},
   "cell_type": "markdown",
   "id": "e968c827-af66-4a12-8255-33acc90204b8",
   "metadata": {},
   "source": [
    "### Analisis de sentimientos"
   ]
  },
  {
   "cell_type": "code",
   "execution_count": 29,
   "id": "2bf6ae23-3d38-48e0-8134-d0d92d4164d0",
   "metadata": {},
   "outputs": [
    {
     "data": {
      "application/vnd.jupyter.widget-view+json": {
       "model_id": "73ff499613ff454abf862e27a92793e3",
       "version_major": 2,
       "version_minor": 0
      },
      "text/plain": [
       "Downloading (…)lve/main/config.json:   0%|          | 0.00/949 [00:00<?, ?B/s]"
      ]
     },
     "metadata": {},
     "output_type": "display_data"
    },
    {
     "data": {
      "application/vnd.jupyter.widget-view+json": {
       "model_id": "57b336b17b2e46a8a4e32efac2e57f57",
       "version_major": 2,
       "version_minor": 0
      },
      "text/plain": [
       "Downloading pytorch_model.bin:   0%|          | 0.00/540M [00:00<?, ?B/s]"
      ]
     },
     "metadata": {},
     "output_type": "display_data"
    },
    {
     "data": {
      "application/vnd.jupyter.widget-view+json": {
       "model_id": "e54db5b342c645c89ec8588297a648b1",
       "version_major": 2,
       "version_minor": 0
      },
      "text/plain": [
       "Downloading (…)okenizer_config.json:   0%|          | 0.00/338 [00:00<?, ?B/s]"
      ]
     },
     "metadata": {},
     "output_type": "display_data"
    },
    {
     "data": {
      "application/vnd.jupyter.widget-view+json": {
       "model_id": "a62e2f7b8fb94093a5036a9adab1e205",
       "version_major": 2,
       "version_minor": 0
      },
      "text/plain": [
       "Downloading (…)solve/main/vocab.txt:   0%|          | 0.00/843k [00:00<?, ?B/s]"
      ]
     },
     "metadata": {},
     "output_type": "display_data"
    },
    {
     "data": {
      "application/vnd.jupyter.widget-view+json": {
       "model_id": "9b74080add2d4e12b11143ab439ea34d",
       "version_major": 2,
       "version_minor": 0
      },
      "text/plain": [
       "Downloading (…)solve/main/bpe.codes:   0%|          | 0.00/1.08M [00:00<?, ?B/s]"
      ]
     },
     "metadata": {},
     "output_type": "display_data"
    },
    {
     "data": {
      "application/vnd.jupyter.widget-view+json": {
       "model_id": "cd05405409fc41339e26991cc5dcd427",
       "version_major": 2,
       "version_minor": 0
      },
      "text/plain": [
       "Downloading (…)in/added_tokens.json:   0%|          | 0.00/22.0 [00:00<?, ?B/s]"
      ]
     },
     "metadata": {},
     "output_type": "display_data"
    },
    {
     "data": {
      "application/vnd.jupyter.widget-view+json": {
       "model_id": "ffc86d8b932a404d86cde565ed892dd4",
       "version_major": 2,
       "version_minor": 0
      },
      "text/plain": [
       "Downloading (…)cial_tokens_map.json:   0%|          | 0.00/167 [00:00<?, ?B/s]"
      ]
     },
     "metadata": {},
     "output_type": "display_data"
    }
   ],
   "source": [
    "# Se crea un pipeline de analisis de sentimientos\n",
    "SENTIMENT_ANALYSIS_MODEL_NAME = \"finiteautomata/bertweet-base-sentiment-analysis\"\n",
    "\n",
    "pipe = pipeline(\n",
    "    \"sentiment-analysis\",\n",
    "    model=SENTIMENT_ANALYSIS_MODEL_NAME,\n",
    "    device_map=\"auto\",\n",
    "    torch_dtype=torch.bfloat16,\n",
    "    batch_size=128\n",
    ")"
   ]
  },
  {
   "cell_type": "code",
   "execution_count": 30,
   "id": "381e8e0a",
   "metadata": {},
   "outputs": [
    {
     "name": "stderr",
     "output_type": "stream",
     "text": [
      "100%|██████████| 464291/464291 [10:03<00:00, 769.52it/s]"
     ]
    },
    {
     "name": "stdout",
     "output_type": "stream",
     "text": [
      "CPU times: user 9min 58s, sys: 7.44 s, total: 10min 5s\n",
      "Wall time: 10min 3s\n"
     ]
    },
    {
     "name": "stderr",
     "output_type": "stream",
     "text": [
      "\n"
     ]
    }
   ],
   "source": [
    "%%time\n",
    "# Se usa el modelo para obtener el sentimiento de cada review\n",
    "sentimiento = []\n",
    "for out in tqdm(pipe(KeyDataset(hf_data, \"review\"), truncation=True), total=len(hf_data)):\n",
    "    sentimiento.append(out[\"label\"])"
   ]
  },
  {
   "cell_type": "code",
   "execution_count": 31,
   "id": "17d9c963",
   "metadata": {},
   "outputs": [],
   "source": [
    "# Guardamos el sentimiento en el dataframe original\n",
    "data[\"sentimiento\"] = sentimiento"
   ]
  },
  {
   "cell_type": "code",
   "execution_count": 32,
   "id": "6ae8d284",
   "metadata": {},
   "outputs": [
    {
     "data": {
      "text/plain": [
       "Text(0.5, 1.0, 'Proporcion de sentimiento de las reviews por marca')"
      ]
     },
     "execution_count": 32,
     "metadata": {},
     "output_type": "execute_result"
    },
    {
     "data": {
      "image/png": "[encoded data removed]",
      "text/plain": [
       "<Figure size 600x400 with 1 Axes>"
      ]
     },
     "metadata": {},
     "output_type": "display_data"
    }
   ],
   "source": [
    "# Se inspeccionan el numero de reviews de cada clase\n",
    "grouped = data.groupby([\"brand\", \"sentimiento\"]).size().reset_index(name=\"count\")\n",
    "total = data.groupby(\"brand\").size().reset_index(name=\"total\")\n",
    "merged = pd.merge(grouped, total, on=\"brand\")\n",
    "merged[\"proportion\"] = merged[\"count\"] / merged[\"total\"]\n",
    "\n",
    "plt.figure(figsize=(6, 4))\n",
    "sns.barplot(data=merged, x=\"brand\", y=\"proportion\", hue=\"sentimiento\")\n",
    "plt.ylabel(\"Proporcion\")\n",
    "plt.xlabel(\"Marca\")\n",
    "plt.title(\"Proporcion de sentimiento de las reviews por marca\")"
   ]
  },
  {
   "cell_type": "code",
   "execution_count": 33,
   "id": "31e69599",
   "metadata": {},
   "outputs": [
    {
     "name": "stdout",
     "output_type": "stream",
     "text": [
      "Filas: [85,823]\n",
      "Columnas: [5]\n"
     ]
    }
   ],
   "source": [
    "# Guardamos datos de sentimiento negativo para obtener embeddings\n",
    "data_negativa = data.copy()[data[\"sentimiento\"] == \"NEG\"].reset_index(drop=True)\n",
    "print(f\"Filas: [{data_negativa.shape[0]:,}]\")\n",
    "print(f\"Columnas: [{data_negativa.shape[1]}]\")"
   ]
  },
  {
   "cell_type": "code",
   "execution_count": 34,
   "id": "3fe03995",
   "metadata": {},
   "outputs": [
    {
     "data": {
      "text/plain": [
       "Electronic Arts    0.329259\n",
       "Nintendo           0.184927\n",
       "Microsoft          0.179323\n",
       "Sony               0.157289\n",
       "Activision         0.149202\n",
       "Name: brand, dtype: float64"
      ]
     },
     "execution_count": 34,
     "metadata": {},
     "output_type": "execute_result"
    }
   ],
   "source": [
    "# Distribucion de reviews negativas por marca\n",
    "data_negativa[\"brand\"].value_counts(True)"
   ]
  },
  {
   "attachments": {},
   "cell_type": "markdown",
   "id": "f4aea9cc-6de5-410a-ac08-6dc24b264698",
   "metadata": {},
   "source": [
    "### Embeddings"
   ]
  },
  {
   "cell_type": "code",
   "execution_count": 36,
   "id": "659914ce-3665-4112-a53d-51e48df15eb5",
   "metadata": {},
   "outputs": [
    {
     "data": {
      "application/vnd.jupyter.widget-view+json": {
       "model_id": "18c642836bfe4ef6b8ee0854ae543014",
       "version_major": 2,
       "version_minor": 0
      },
      "text/plain": [
       "Downloading (…)b04c2/.gitattributes:   0%|          | 0.00/1.52k [00:00<?, ?B/s]"
      ]
     },
     "metadata": {},
     "output_type": "display_data"
    },
    {
     "data": {
      "application/vnd.jupyter.widget-view+json": {
       "model_id": "14db9f643de1498bb207a8b67cf926df",
       "version_major": 2,
       "version_minor": 0
      },
      "text/plain": [
       "Downloading (…)_Pooling/config.json:   0%|          | 0.00/191 [00:00<?, ?B/s]"
      ]
     },
     "metadata": {},
     "output_type": "display_data"
    },
    {
     "data": {
      "application/vnd.jupyter.widget-view+json": {
       "model_id": "11884dda0b3b4cf8915607b8a354ae22",
       "version_major": 2,
       "version_minor": 0
      },
      "text/plain": [
       "Downloading (…)28b43b04c2/README.md:   0%|          | 0.00/67.9k [00:00<?, ?B/s]"
      ]
     },
     "metadata": {},
     "output_type": "display_data"
    },
    {
     "data": {
      "application/vnd.jupyter.widget-view+json": {
       "model_id": "796dd054b8ed4226b327728a8747d1b1",
       "version_major": 2,
       "version_minor": 0
      },
      "text/plain": [
       "Downloading (…)b43b04c2/config.json:   0%|          | 0.00/619 [00:00<?, ?B/s]"
      ]
     },
     "metadata": {},
     "output_type": "display_data"
    },
    {
     "data": {
      "application/vnd.jupyter.widget-view+json": {
       "model_id": "ab957cc891c649eda4f935e50140a47d",
       "version_major": 2,
       "version_minor": 0
      },
      "text/plain": [
       "Downloading model.safetensors:   0%|          | 0.00/670M [00:00<?, ?B/s]"
      ]
     },
     "metadata": {},
     "output_type": "display_data"
    },
    {
     "data": {
      "application/vnd.jupyter.widget-view+json": {
       "model_id": "22bc61ee999d4d649cabe44340351d47",
       "version_major": 2,
       "version_minor": 0
      },
      "text/plain": [
       "Downloading (…)4c2/onnx/config.json:   0%|          | 0.00/632 [00:00<?, ?B/s]"
      ]
     },
     "metadata": {},
     "output_type": "display_data"
    },
    {
     "data": {
      "application/vnd.jupyter.widget-view+json": {
       "model_id": "c73e5b297e71488387f35a8093ecc667",
       "version_major": 2,
       "version_minor": 0
      },
      "text/plain": [
       "Downloading model.onnx:   0%|          | 0.00/1.34G [00:00<?, ?B/s]"
      ]
     },
     "metadata": {},
     "output_type": "display_data"
    },
    {
     "data": {
      "application/vnd.jupyter.widget-view+json": {
       "model_id": "bd5f89a16a5840048bdc4a20068db9fb",
       "version_major": 2,
       "version_minor": 0
      },
      "text/plain": [
       "Downloading (…)cial_tokens_map.json:   0%|          | 0.00/125 [00:00<?, ?B/s]"
      ]
     },
     "metadata": {},
     "output_type": "display_data"
    },
    {
     "data": {
      "application/vnd.jupyter.widget-view+json": {
       "model_id": "5b2e63d73bb843c486aa7b42303946a0",
       "version_major": 2,
       "version_minor": 0
      },
      "text/plain": [
       "Downloading (…)/onnx/tokenizer.json:   0%|          | 0.00/712k [00:00<?, ?B/s]"
      ]
     },
     "metadata": {},
     "output_type": "display_data"
    },
    {
     "data": {
      "application/vnd.jupyter.widget-view+json": {
       "model_id": "3c2197d1f1a64aa3847b18a6a7d7b9f0",
       "version_major": 2,
       "version_minor": 0
      },
      "text/plain": [
       "Downloading (…)okenizer_config.json:   0%|          | 0.00/342 [00:00<?, ?B/s]"
      ]
     },
     "metadata": {},
     "output_type": "display_data"
    },
    {
     "data": {
      "application/vnd.jupyter.widget-view+json": {
       "model_id": "891d5daebdb240c89bce0db2e9ac5117",
       "version_major": 2,
       "version_minor": 0
      },
      "text/plain": [
       "Downloading (…)b04c2/onnx/vocab.txt:   0%|          | 0.00/232k [00:00<?, ?B/s]"
      ]
     },
     "metadata": {},
     "output_type": "display_data"
    },
    {
     "data": {
      "application/vnd.jupyter.widget-view+json": {
       "model_id": "0f075ea6877a42f28362f540de23ad3a",
       "version_major": 2,
       "version_minor": 0
      },
      "text/plain": [
       "Downloading pytorch_model.bin:   0%|          | 0.00/670M [00:00<?, ?B/s]"
      ]
     },
     "metadata": {},
     "output_type": "display_data"
    },
    {
     "data": {
      "application/vnd.jupyter.widget-view+json": {
       "model_id": "ec59a8db2f204026ba7c986bddff237a",
       "version_major": 2,
       "version_minor": 0
      },
      "text/plain": [
       "Downloading (…)nce_bert_config.json:   0%|          | 0.00/57.0 [00:00<?, ?B/s]"
      ]
     },
     "metadata": {},
     "output_type": "display_data"
    },
    {
     "data": {
      "application/vnd.jupyter.widget-view+json": {
       "model_id": "15d2dbda40464bb0ac2c30140a78f5a9",
       "version_major": 2,
       "version_minor": 0
      },
      "text/plain": [
       "Downloading (…)cial_tokens_map.json:   0%|          | 0.00/125 [00:00<?, ?B/s]"
      ]
     },
     "metadata": {},
     "output_type": "display_data"
    },
    {
     "data": {
      "application/vnd.jupyter.widget-view+json": {
       "model_id": "77e0ca60938c4eb0819a786094ca00ee",
       "version_major": 2,
       "version_minor": 0
      },
      "text/plain": [
       "Downloading (…)b04c2/tokenizer.json:   0%|          | 0.00/712k [00:00<?, ?B/s]"
      ]
     },
     "metadata": {},
     "output_type": "display_data"
    },
    {
     "data": {
      "application/vnd.jupyter.widget-view+json": {
       "model_id": "e0d05a7b0c8043dbab852970289fbc6c",
       "version_major": 2,
       "version_minor": 0
      },
      "text/plain": [
       "Downloading (…)okenizer_config.json:   0%|          | 0.00/342 [00:00<?, ?B/s]"
      ]
     },
     "metadata": {},
     "output_type": "display_data"
    },
    {
     "data": {
      "application/vnd.jupyter.widget-view+json": {
       "model_id": "beb271ae0d4d4368b242f9cc87e9c365",
       "version_major": 2,
       "version_minor": 0
      },
      "text/plain": [
       "Downloading (…)28b43b04c2/vocab.txt:   0%|          | 0.00/232k [00:00<?, ?B/s]"
      ]
     },
     "metadata": {},
     "output_type": "display_data"
    },
    {
     "data": {
      "application/vnd.jupyter.widget-view+json": {
       "model_id": "e8a99bf322db4b149f03ba5e008113c1",
       "version_major": 2,
       "version_minor": 0
      },
      "text/plain": [
       "Downloading (…)43b04c2/modules.json:   0%|          | 0.00/385 [00:00<?, ?B/s]"
      ]
     },
     "metadata": {},
     "output_type": "display_data"
    }
   ],
   "source": [
    "# Se carga el modelo\n",
    "EMBEDDING_MODEL_NAME = \"thenlper/gte-large\"\n",
    "model = SentenceTransformer(\n",
    "    model_name_or_path=EMBEDDING_MODEL_NAME,\n",
    "    device=\"cuda\"\n",
    ")"
   ]
  },
  {
   "cell_type": "code",
   "execution_count": 37,
   "id": "f9037e35-ce96-43a8-901b-4f57c24b8aaa",
   "metadata": {},
   "outputs": [
    {
     "data": {
      "application/vnd.jupyter.widget-view+json": {
       "model_id": "b6c358f4b56f474aaf31627d598a1f03",
       "version_major": 2,
       "version_minor": 0
      },
      "text/plain": [
       "Batches:   0%|          | 0/671 [00:00<?, ?it/s]"
      ]
     },
     "metadata": {},
     "output_type": "display_data"
    },
    {
     "name": "stdout",
     "output_type": "stream",
     "text": [
      "CPU times: user 8min 51s, sys: 321 ms, total: 8min 51s\n",
      "Wall time: 8min 51s\n"
     ]
    }
   ],
   "source": [
    "%%time\n",
    "# Se utiliza el modelo para obtener los embeddings de los reviews y guardarlos en  un tensor\n",
    "embeddings = model.encode(\n",
    "    sentences=data_negativa[\"review\"].to_numpy(),\n",
    "    batch_size=128,\n",
    "    device=\"cuda\",\n",
    "    convert_to_tensor=True,\n",
    "    show_progress_bar=True\n",
    ")"
   ]
  },
  {
   "cell_type": "code",
   "execution_count": 38,
   "id": "51555dc5-d338-4bd1-bb44-8a7876cf1f82",
   "metadata": {},
   "outputs": [
    {
     "name": "stdout",
     "output_type": "stream",
     "text": [
      "torch.Size([85823, 1024])\n",
      "<class 'torch.Tensor'>\n"
     ]
    },
    {
     "data": {
      "text/plain": [
       "tensor([[ 0.0276, -0.0011, -0.0100,  ..., -0.0360, -0.0100, -0.0180],\n",
       "        [-0.0244,  0.0133, -0.0296,  ..., -0.0317,  0.0067, -0.0129],\n",
       "        [ 0.0055,  0.0073,  0.0142,  ..., -0.0159,  0.0145, -0.0233],\n",
       "        [ 0.0064,  0.0132, -0.0109,  ...,  0.0018,  0.0312, -0.0024],\n",
       "        [ 0.0389,  0.0119, -0.0001,  ..., -0.0195,  0.0077, -0.0332]],\n",
       "       device='cuda:0')"
      ]
     },
     "execution_count": 38,
     "metadata": {},
     "output_type": "execute_result"
    }
   ],
   "source": [
    "# Se inspeccionan los embeddings\n",
    "print(embeddings.shape)\n",
    "print(type(embeddings))\n",
    "embeddings[:5]"
   ]
  },
  {
   "cell_type": "code",
   "execution_count": 50,
   "id": "d79b9468",
   "metadata": {},
   "outputs": [],
   "source": [
    "data_negativa_con_embeddings = pd.concat([data_negativa, pd.DataFrame(embeddings.cpu().numpy())], axis=1)\n",
    "data_negativa_con_embeddings.columns = [str(col) for col in data_negativa_con_embeddings.columns]\n",
    "data_negativa_con_embeddings.to_parquet(\"data.parquet\", index=False)"
   ]
  }
 ],
 "metadata": {
  "kernelspec": {
   "display_name": "Python 3",
   "language": "python",
   "name": "python3"
  },
  "language_info": {
   "codemirror_mode": {
    "name": "ipython",
    "version": 3
   },
   "file_extension": ".py",
   "mimetype": "text/x-python",
   "name": "python",
   "nbconvert_exporter": "python",
   "pygments_lexer": "ipython3",
   "version": "3.10.11"
  }
 },
 "nbformat": 4,
 "nbformat_minor": 5
}
